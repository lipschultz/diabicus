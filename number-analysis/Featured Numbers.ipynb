{
 "cells": [
  {
   "cell_type": "markdown",
   "metadata": {},
   "source": [
    "# Featured Numbers, Part 0: Introduction\n",
    "\n",
    "While [all numbers are interesting](https://en.wikipedia.org/wiki/Interesting_number_paradox), prior research has found that some numbers are more popular than others ([Guglielmetti, 2009](https://www.drgoulu.com/2009/04/18/nombres-mineralises/); [Gauvrit, Delahaye, Zenil, 2011](https://arxiv.org/abs/1101.4470)).  This prior research was on the [Online Encyclopedia of Integer Sequences (OEIS)](http://oeis.org/), which is exactly what it claims to be.  In this series, we'll look at the popularity of numbers on two popular math YouTube channels, as well as in OEIS.\n",
    "\n",
    "[Numberphile](https://www.youtube.com/user/numberphile/) is a YouTube channel that's \"[Videos about numbers - it's that simple.](https://www.youtube.com/user/numberphile/about)\".  It's perhaps the most popular Youtube channel devoted to math, with over two million subscribers and 300 million views as of December 14, 2017.  One frequent contributor to Numberphile is Matt Parker, who has his own YouTube channel, [standupmaths](https://www.youtube.com/user/standupmaths/), where he does \"[mathematics and stand-up. Sometimes simultaneously. Occasionally while being filmed. (It's quite the Venn diagram.)](https://www.youtube.com/user/standupmaths/about)\"  I strongly recommend subscribing to both channels if you aren't already.\n",
    "\n",
    "## History\n",
    "\n",
    "This project actually began as [a disco calculator for a friend's daughter](https://github.com/lipschultz/diabicus), inspired by [Sam's Disco Calculator](https://www.youtube.com/watch?v=YfIQ7ktFM1g).  For each calculation, the calculator would show a fact related to the calculation or result.  I collected these facts from Numberphile and standupmaths videos.  Eventually, I realized that I have a bunch of data, it'd be ashame if I didn't explore the data (I may also have been inspired by [Sloane's Gap](https://www.youtube.com/watch?v=_YysNM2JoFo).)\n",
    "\n",
    "## About the Data\n",
    "\n",
    "Only videos on Numberphile and standupmaths are included in the data.  Hidden videos on those channels that are linked to from a visible video on those channels are included.  Other hidden videos, and private videos, are not included.  [Numberphile2](https://www.youtube.com/channel/UCyp1gCHZJU_fGWFf2rtMkCg) and [Matt Parker](https://www.youtube.com/channel/UCzV9N7eGedBchEQjQhPapyQ) are not included.  The analysis includes videos up to December 12, 2017, giving a total of 359 Numberphile videos and 98 standupmaths videos.  There are many other math channels on YouTube, but the data collection and analysis are left as exercises to the reader.\n",
    "\n",
    "The data used in this analysis can be found: [https://github.com/lipschultz/diabicus/blob/d1b1bb2020c6b6ad8e446dbc7d719efc6155a3c5/resources/youtube.json](https://github.com/lipschultz/diabicus/blob/d1b1bb2020c6b6ad8e446dbc7d719efc6155a3c5/resources/youtube.json)\n",
    "\n",
    "### Annotations\n",
    "\n",
    "For each video, the following information was recorded:\n",
    "- URL - YouTube link to video\n",
    "- Title - title of YouTube video\n",
    "- Hosts - people talking about the math/number(s) in the video, but not necessarily everyone involved in making or appearing in the video (e.g. the hosts for [MENACE: the pile of matchboxes which can learn](https://www.youtube.com/watch?v=R9c-_neaxeU) are just Matt Parker, Matthew Scroggs, and Katie Steckles)\n",
    "- Date published\n",
    "- Source (\"Numberphile\", \"standupmaths\")\n",
    "- links to any relevant [Online Encyclopedia of Integer Sequences (OEIS)](http://oeis.org/) or [Wikipedia](https://en.wikipedia.org/) page\n",
    "- Test - used to determine what numbers or calculations occur in the video\n",
    "\n",
    "`Test` is what we'll use to determine whether a number is \"featured\" in a video.  The test is a python function that takes a formula, its result, and the context (i.e. calculation history), and returns True if the formula, result, or context are relevant to the video.  I chose to use a function instead of recording the set of numbers (as is done in OEIS) since some sets would be very large (e.g. set of all integers).\n",
    "\n",
    "This analysis suffers from having only one annotator: me.  I have probably been inconsistent in my annotations over the months I spent watching and annotating videos, and the threshold for a number to \"feature\" in a video is very vague.  In my defense, the data was originally intended to supplement a child's disco calculator, so I didn't approach this with the rigor I maybe should have.  Therefore, I welcome annotations from others to establish inter-rater reliability and improve the overall tags.\n",
    "\n",
    "Some guidelines I used for determining whether a number was \"featured\" in the video:\n",
    "\n",
    "- If the video is about random numbers or randomness (e.g. [An unexpected way to inflate a balloon](https://www.youtube.com/watch?v=un-pTKfC1dQ)), then the video will match a random number in the range [0, 1).\n",
    "- When a constant is calculated and the error is mentioned (e.g. [computing pi using pies](https://www.youtube.com/watch?v=ZNiRzZ66YN0)), any number within that error range of the constant is considered \"featured\" in the video.\n",
    "- Numbers that show up in illustrative examples do not qualify as being featured in the video\n",
    "    - e.g. [a video about parabolas](https://www.youtube.com/watch?v=zXoJlRFbktw) will use some numbers as coefficients and x or y values, but those numbers aren't \"featured\" in the video\n",
    "    - e.g. the [triplets in Apéry's constant](https://www.youtube.com/watch?v=ur-iLy4z3QE)\n",
    "- Some videos just aren't obviously about numbers (Todashi's Toys are a good example), so these videos don't match any numbers.\n",
    "- If a set is talked about (e.g. prime numbers or Fibonnacci sequence) but only some numbers from the sequence are included, \"all\" numbers in the set are considered featured in the video (well, all numbers up to the max I'm considering in this analysis or up to what's included in OEIS or Wikipedia).\n",
    "    - If a video is about numbers in general (e.g. [Philosophy of Numbers](https://www.youtube.com/watch?v=vA2cdHLKYB8)), then it features all numbers.\n",
    "    - If a video is about a kind of number (e.g. [Surreal Numbers (writing the first book)](https://www.youtube.com/watch?v=mPn2AdMH7UQ)), then all numbers of that kind are featured.\n",
    "\n",
    "### Counting Featured Numbers\n",
    "\n",
    "For the analysis in this project, we're only interested in whether a number is \"featured\" in the video, so we feed that number in as the `result` to the test function; the `formula` that generated that result will also be the number; no additional calculation history is provided.  If the test function returns True, then the number is featured in the video.\n",
    "\n",
    "While studying the popularity of all numbers would be interesting, time and space constraints limit the set of numbers to consider.   Drawing from previous work on the popularity of integers in OEIS (see [Sloane's Gap](https://www.youtube.com/watch?v=_YysNM2JoFo)), bounds were set at [-10000, +10001) for both real and imaginary numbers.  Along the real axis (a + 0i) and the imaginary axis (0 + bi), we take 0.01-step increments.  For all other complex numbers (a + bi, for a, b != 0), we take unit steps for both a and b.\n",
    "\n",
    "The code for determining whether a number is featured in a video can be found here: [https://github.com/lipschultz/diabicus/blob/gap-analysis/number-analysis/compute_popularity.py](https://github.com/lipschultz/diabicus/blob/gap-analysis/number-analysis/compute_popularity.py)\n",
    "\n",
    "## A Brief Word About OEIS\n",
    "\n",
    "Since some of the analysis will include the [Online Encyclopedia of Integer Sequences (OEIS)](http://oeis.org/), a brief introduction is in order.  The OEIS is exactly what it claims to be: an encyclopedia of integer sequences.  No non-integer values occur in the sequences (although sequences can be about non-integer numbers, e.g. [A000796](http://oeis.org/A000796)), nor are there sequences containing imaginary numbers (although sequences can be about imaginary numbers, e.g. [A002410](http://oeis.org/A002410)).\n",
    "\n",
    "The data used in this analysis was downloaded on December 15, 2017 and consists of 296 522 sequences ([download link](http://oeis.org/stripped.gz)).  Unlike the data on the videos, OEIS records a list of numbers in the sequence and [generally caps it at about 180 to 210 characters in a sequence (including commas)](http://oeis.org/FAQ.html#Z07b).  While generating functions in various programming languages are sometimes available, they are not used in this analysis.  Unfortunately, this has the effect of numbers occurring in a sequence, but not being included in OEIS's rendering of the sequence and therefore not being included in this analysis.\n",
    "\n",
    "Previous work on the popularity of numbers in OEIS counted the total number of occurrences of a number in OEIS.  If a number occurred more than once in a sequence, it was counted each time.  However, in this series of posts, to be consistent with how I counted numbers in the YouTube videos, I instead count the sequences a number occurs in.  For example, in sequence [A000796](http://oeis.org/A000796) (the digits of Pi), the number `1` occurs nine times.  In the Sloane's Gap paper, `1`'s count would increase by nine, while in this analysis it increases by one.\n",
    "\n",
    "Code for adding the OEIS data to the database of feature numbers can be found here: [https://github.com/lipschultz/diabicus/blob/gap-analysis/number-analysis/compute_oeis_popularity.py](https://github.com/lipschultz/diabicus/blob/gap-analysis/number-analysis/compute_oeis_popularity.py)\n",
    "\n",
    "## Featured Figures and Future Figuring\n",
    "\n",
    "Important numbers for today's post:\n",
    "\n",
    "- 359 Numberphile videos annotated\n",
    "- 98 standupmaths videos annotated\n",
    "- 1 annotator for videos\n",
    "- 296 522 OEIS sequences included\n",
    "\n",
    "With the introduction and overview out of the way, next time we'll take a look at the data and attempt to replicate the prior findings on OEIS."
   ]
  },
  {
   "cell_type": "markdown",
   "metadata": {},
   "source": [
    "# Featured Numbers, Part 1: Popularity of Positive Rationals in OEIS\n",
    "\n",
    "This is the second part in a series examining the popularity of numbers featured in various math resources.  In the first part, we reviewed the data to be used in this analysis.  In this part, we'll finally start doing some analysis!  We'll start with a quick overview of the popularity of numbers across the three sources.  Then we'll dive into the OEIS data by trying to replicate the results in the [Sloane's Gap paper](https://arxiv.org/abs/1101.4470) ([Numberphile video on the topic](https://www.youtube.com/watch?v=_YysNM2JoFo)).\n",
    "\n",
    "## Loading Data\n",
    "\n",
    "At this point, we assume that the raw json data from the YouTube channels and the csv data from OEIS have been loaded into a sqlite database (using the scripts from [https://github.com/lipschultz/diabicus/blob/gap-analysis/number-analysis/](https://github.com/lipschultz/diabicus/blob/gap-analysis/number-analysis/)).  Let's load all the positive rational data, since in future posts we'll be comparing all of them (and I'm eager to see how Numberphile and standupmaths compare to OEIS)."
   ]
  },
  {
   "cell_type": "code",
   "execution_count": null,
   "metadata": {
    "collapsed": true
   },
   "outputs": [],
   "source": [
    "import sqlite3\n",
    "import pandas as pd\n",
    "\n",
    "conn = sqlite3.connect('data/data.db')\n",
    "df_positive_rational = pd.read_sql_query('''SELECT V.source, C.real_part AS number, COUNT(*) AS count\n",
    "                                            FROM counts C, videos V\n",
    "                                            WHERE C.imag_part == 0 AND\n",
    "                                                  C.video_id = V.video_id AND\n",
    "                                                  0 <= C.real_part AND\n",
    "                                                  C.real_part <= 10000\n",
    "                                            GROUP BY V.source, C.real_part''',\n",
    "                                         conn)"
   ]
  },
  {
   "cell_type": "markdown",
   "metadata": {},
   "source": [
    "Because each source has a different number of videos/sequences (from 98 with standupmaths to 296522 with OEIS), we need to normalize by the number of videos/sequences. In the code below, a new column is added (named pct) to store the percent of videos/sequences that each number occurs in."
   ]
  },
  {
   "cell_type": "code",
   "execution_count": null,
   "metadata": {
    "collapsed": true
   },
   "outputs": [],
   "source": [
    "df_source = pd.read_sql_query('''SELECT source, COUNT(*) as total\n",
    "                                 FROM videos\n",
    "                                 GROUP BY source''',\n",
    "                              conn, index_col='source')\n",
    "source_totals = df_source['total'].to_dict()\n",
    "df_positive_rational['pct'] = df_positive_rational.apply(lambda row: row['count']/source_totals[row['source']], axis=1)"
   ]
  },
  {
   "cell_type": "markdown",
   "metadata": {},
   "source": [
    "## Qualitative Comparison of Sources\n",
    "\n",
    "With the data loaded, let's take a look at the popularity!"
   ]
  },
  {
   "cell_type": "code",
   "execution_count": null,
   "metadata": {
    "collapsed": true
   },
   "outputs": [],
   "source": [
    "import matplotlib.pyplot as plt\n",
    "\n",
    "colors = {'Numberphile': '#603913', 'standupmaths': '#e79300', 'OEIS': '#ff0000'}\n",
    "\n",
    "for source, color in colors.items():\n",
    "    d = df_positive_rational[df_positive_rational['source'] == source]\n",
    "    plt.semilogy(d.number, d['pct'], marker='.', linestyle='', color=color, label=source)\n",
    "\n",
    "plt.legend()\n",
    "plt.show()"
   ]
  },
  {
   "cell_type": "markdown",
   "metadata": {},
   "source": [
    "The graph above shows OEIS popularity in red, standupmaths in yellow, and Numberphile in brown.  The y-axis is logscale.  A few interesting things pop out in this graph.\n",
    "\n",
    "First, notice that the Numberphile and standupmaths plots are mostly straight lines.  Close to zero, there appears to be a downward trend, like with the OEIS data, but it quickly levels off.  This is in stark contrast with OEIS, which has a general downward trend throughout the graph.  OEIS not leveling off may be due to their length threshold on each sequence -- bigger numbers may be dropped due to space restrictions.  However, there may be fundamental differences between OEIS and the two YouTube channels.  The people who decide what numbers/sequences to include are different (OEIS has a panel of mathematicians, Numberphile has Dr. Haran and mathematicians, standupmaths has Matt Parker and his guests), possibly leading to different focuses.\n",
    "\n",
    "Both Numberphile and standupmaths have very clearly-defined gaps compared to OEIS.  This might be due to just having less videos than OEIS has sequences.  By having a lot of sequences, there's also a finer granularity between 0% and 100%, allowing for a muddier gap.  Having more sequences also allows for less popular sequences (e.g. [OEIS keywords](http://oeis.org/eishelp2.html#RK) \"dumb\", \"less\", or \"obsc\"), which Numberphile and standupmaths haven't gotten to (yet?).  Or, it could be due to OEIS capping off its sequences, which could lead to some popular numbers not showing up as often as they should.  If that's the case, one would expect to see a cleaner gap in the OEIS data for smaller integers, but it's not clear there is in the graph above.\n",
    "\n",
    "Finally, almost all OEIS data points are below the other two sources.  This is likely because there are just more sequences in OEIS than videos in Numberphile and standupmaths, and each number just shows up in a small percentage of those sequences.\n",
    "\n",
    "Now let's dive into the details of the specific curves, starting with OEIS!\n",
    "\n",
    "## Positive Integers in OEIS\n",
    "\n",
    "In the graph above, notice that the OEIS data is similar to Figure 1 from the [Sloane's Gap paper](https://arxiv.org/abs/1101.4470), which we'd expect since the data is largely identical.  While there is still a noticeable gap between two \"clouds\" (as Gauvrit et al. call the two fairly separate regions), it is less pronounced than in the Sloane's Gap paper.  I suspect the difference is in how we counted occurrences: the Sloane's Gap paper counts all occurrences of a number, while this analysis counts the sequences a number appears in.\n",
    "\n",
    "### Curve\n",
    "\n",
    "The popularity of positive integers in OEIS is generally decreasing as the number increases, appearing to be a logarithmic curve as was used in the Sloane's Gap paper.  Fitting a logarithmic curve to the data shows that it is:"
   ]
  },
  {
   "cell_type": "code",
   "execution_count": null,
   "metadata": {
    "collapsed": true
   },
   "outputs": [],
   "source": [
    "import numpy as np\n",
    "from scipy import stats\n",
    "\n",
    "oeis = df_positive_rational[df_positive_rational['source'] == 'OEIS'].copy()\n",
    "\n",
    "oeis_regression = stats.linregress(np.log(oeis.number[1:]), np.log(oeis['pct'][1:]))\n",
    "print('OEIS regression:', oeis_regression)\n",
    "print('popularity = %f * n^%f' % (np.exp(oeis_regression.intercept), oeis_regression.slope))\n",
    "oeis_best_fit = lambda n: np.exp(oeis_regression.intercept) * n**oeis_regression.slope"
   ]
  },
  {
   "cell_type": "markdown",
   "metadata": {},
   "source": [
    "The curve is a very good fit at p ≈ 0.0 and r^2 = 0.84 (compared to r^2 = 0.81 in the Sloane's Gap paper).  The slope/exponent is also very similar to the one found in Sloane's Gap paper (exponent = -1.33).\n",
    "\n",
    "### Classifying the Popular Numbers\n",
    "\n",
    "As with the Sloane's Gap paper, determining which numbers are popular will be done empirically.  Two curves will determine popularity for the regions [0, 185) and [185, 500).  For 500 and above, I use the same method as Gauvrit et al.: numbers with a popularity above the 82 percentile within the range [n-c, n+c] are labeled popular; for n <= 1000, c = 100, for n > 1000, c = 350."
   ]
  },
  {
   "cell_type": "code",
   "execution_count": null,
   "metadata": {
    "collapsed": true
   },
   "outputs": [],
   "source": [
    "from collections import namedtuple\n",
    "\n",
    "Point = namedtuple('Point', ['x', 'y'])\n",
    "\n",
    "def line_from_points(point1, point2):\n",
    "    m = (point1.y - point2.y) / (point1.x - point2.x)\n",
    "    b = point1.y - m*point1.x\n",
    "    return m, b\n",
    "\n",
    "point1 = Point(100, 0.0219296)\n",
    "point2 = Point(185, 0.0178644)\n",
    "m1, b1 = line_from_points(point1, point2)\n",
    "threshold_curve1 = lambda x: m1 * x + b1\n",
    "\n",
    "point3 = Point(499, 0.00609301)\n",
    "point2log = Point(*[np.log(p) for p in point2])\n",
    "point3log = Point(*[np.log(p) for p in point3])\n",
    "m2, b2 = line_from_points(point2log, point3log)\n",
    "threshold_curve2 = lambda x: np.exp(b2 + m2 * np.log(x))\n",
    "\n",
    "is_popular = []\n",
    "for i in range(len(oeis)):\n",
    "    number = oeis.iloc[i]['number']\n",
    "    pct = oeis.iloc[i]['pct']\n",
    "    if number < 185:\n",
    "        is_popular.append(pct > threshold_curve1(number))\n",
    "    elif number < 500:\n",
    "        is_popular.append(pct > threshold_curve2(number))\n",
    "    else:\n",
    "        window_size = 100 if number <= 1000 else 350\n",
    "        lower_bound = max(0, i-window_size)\n",
    "        upper_bound = min(i+window_size, len(oeis)-1)\n",
    "        interval = oeis.iloc[lower_bound:upper_bound+1]\n",
    "        threshold_pct = interval['pct'].quantile(0.82)\n",
    "        is_popular.append(pct > threshold_pct)\n",
    "\n",
    "oeis['is_popular'] = is_popular"
   ]
  },
  {
   "cell_type": "markdown",
   "metadata": {},
   "source": [
    "The figure below shows the classified numbers, the two curves, as well as the fit for all the data from the previous section.  We also see that there are 1964 positive integers in the popular set."
   ]
  },
  {
   "cell_type": "code",
   "execution_count": null,
   "metadata": {
    "collapsed": true
   },
   "outputs": [],
   "source": [
    "oeis_popular = oeis[oeis.is_popular]\n",
    "oeis_regular = oeis[~oeis.is_popular]\n",
    "\n",
    "print('Number of popular integers:', len(oeis_popular))\n",
    "print('Number of unpopular integers:', len(oeis_regular))\n",
    "\n",
    "plt.semilogy(oeis_popular.number, oeis_popular['pct'], c='red', marker='.', linestyle='', label='Popular')\n",
    "plt.semilogy(oeis_regular.number, oeis_regular['pct'], c='blue', marker='.', linestyle='', label='Unpopular')\n",
    "x_1 = [x for x in range(0, 185)]\n",
    "plt.semilogy(x_1, [threshold_curve1(x) for x in x_1], c='orange', marker='', linestyle='-', label='Threshold 1')\n",
    "x_2 = [x for x in range(185, 500)]\n",
    "plt.semilogy(x_2, [threshold_curve2(x) for x in x_2], c='green', marker='', linestyle='-', label='Threshold 2')\n",
    "plt.semilogy(oeis.number[1:], oeis.number[1:].apply(oeis_best_fit), c='purple', marker='', linestyle='-', label='Best fit')\n",
    "plt.show()"
   ]
  },
  {
   "cell_type": "markdown",
   "metadata": {},
   "source": [
    "### Characterizing the Popular Numbers\n",
    "\n",
    "Now that we've classified the numbers, let's find out who's in the popular class.\n",
    "\n",
    "Prior work by [Guglielmetti](https://www.drgoulu.com/2009/04/18/nombres-mineralises/) and [Gauvrit et al.](https://arxiv.org/abs/1101.4470) found that the popular positive integers to tend belong to one or more of these sets:\n",
    "- `primes`: Prime numbers\n",
    "- `powers`: Numbers of the form a^b (for a,b ∈ **N**)\n",
    "- `squares`: Square numbers\n",
    "- `2^n-1`: Numbers one less than a power of 2\n",
    "- `2^n+1`: Numbers one more than a power of 2\n",
    "- A multitude of factors\n",
    "    - `highly_composites`: Guglielmetti defines this as having more divisors than any lower number (i.e. highly composite numbers, see [5040 and other Anti-Prime Numbers](https://www.youtube.com/watch?v=2JM2oImb9Qg))\n",
    "    - `many_prime_factors`: Gauvrit et al. defines this as when \"the number of prime factors (with their multiplicty) exceeds the 95th percentile, corresponding to the interval [n − 100, n + 100]\"\n",
    "\n",
    "The code below tags each number for whether it belongs to one of those five sets."
   ]
  },
  {
   "cell_type": "code",
   "execution_count": null,
   "metadata": {
    "collapsed": true
   },
   "outputs": [],
   "source": [
    "import sys\n",
    "sys.path.append('../src')\n",
    "import numeric_tools\n",
    "\n",
    "\n",
    "def get_powers_of(base, starting_exponent=2, no_values_above=10000):\n",
    "    values = []\n",
    "    exponent = starting_exponent\n",
    "    value = base ** exponent\n",
    "    while value <= no_values_above:\n",
    "        values.append(value)\n",
    "        exponent += 1\n",
    "        value = base ** exponent\n",
    "    return values\n",
    "\n",
    "\n",
    "def tag_with_sets_from_prior_work(df):\n",
    "    MAX_NUMBER = df.number.max()\n",
    "    set_names = []\n",
    "    \n",
    "    df['is_prime'] = df.number.apply(numeric_tools.is_prime)\n",
    "    set_names.append('is_prime')\n",
    "    \n",
    "    powers = set()\n",
    "    squares = [1] # To be consistent with Guglielmetti, who includes 1\n",
    "    base = 2\n",
    "    base_powers = get_powers_of(base, no_values_above=MAX_NUMBER)\n",
    "    powers_of_2 = [1] + base_powers\n",
    "    while len(base_powers) > 0:\n",
    "        powers.update(base_powers)\n",
    "        squares.append(base_powers[0])\n",
    "        base += 1\n",
    "        base_powers = get_powers_of(base, no_values_above=MAX_NUMBER)\n",
    "    df['is_power'] = df.number.apply(lambda n: n in powers)\n",
    "    df['is_square'] = df.number.apply(lambda n: n in squares)\n",
    "    set_names.append('is_power')\n",
    "    set_names.append('is_square')\n",
    "    \n",
    "    one_less_than_power_of_two = [n - 1 for n in powers_of_2]\n",
    "    df['is_2^n-1'] = df.number.apply(lambda n: n in one_less_than_power_of_two)\n",
    "    set_names.append('is_2^n-1')\n",
    "    \n",
    "    one_more_than_power_of_two = [n + 1 for n in powers_of_2]\n",
    "    df['is_2^n+1'] = df.number.apply(lambda n: n in one_more_than_power_of_two)\n",
    "    set_names.append('is_2^n+1')\n",
    "    \n",
    "    more_divisors_than_predecessors = [1] # To be consistent with Guglielmetti, who includes 1\n",
    "    max_divisor_count = 1\n",
    "    n = 2\n",
    "    while n <= MAX_NUMBER:\n",
    "        divisor_count = len(numeric_tools.factors(n, numeric_tools.FACTORS_ALL))\n",
    "        if divisor_count > max_divisor_count:\n",
    "            more_divisors_than_predecessors.append(n)\n",
    "            max_divisor_count = divisor_count\n",
    "        n += 1\n",
    "    df['is_highly_composite'] = df.number.apply(lambda n: n in more_divisors_than_predecessors)\n",
    "    set_names.append('is_highly_composite')\n",
    "    \n",
    "    df['prime_factor_count'] = df.number.apply(lambda n: len(numeric_tools.factors(n, numeric_tools.FACTORS_PRIME)))\n",
    "    has_many_prime_factors = []\n",
    "    for i in range(len(df)):\n",
    "        lower_bound = max(0, i-100)\n",
    "        upper_bound = min(i+100, len(df)-1)\n",
    "        interval = df.iloc[lower_bound:upper_bound+1]\n",
    "        threshold_95pct = interval.prime_factor_count.quantile(0.95)\n",
    "        has_many_prime_factors.append(df.iloc[i].prime_factor_count > threshold_95pct)\n",
    "    df['has_many_prime_factors'] = has_many_prime_factors\n",
    "    set_names.append('has_many_prime_factors')\n",
    "    \n",
    "    df['any_prior_work_set'] = False\n",
    "    for set_name in set_names:\n",
    "        df['any_prior_work_set'] |= df[set_name]\n",
    "    set_names.append('any_prior_work_set')\n",
    "    return set_names\n",
    "\n",
    "\n",
    "prior_work_set_names = tag_with_sets_from_prior_work(oeis)\n",
    "oeis['popularity_group'] = oeis.is_popular"
   ]
  },
  {
   "cell_type": "markdown",
   "metadata": {},
   "source": [
    "Now let's look at the results!"
   ]
  },
  {
   "cell_type": "code",
   "execution_count": null,
   "metadata": {
    "collapsed": true
   },
   "outputs": [],
   "source": [
    "def show_interesting_set_statistics(df_set, set_label, show_examples_if_count_below=31, groupby='popularity_group'):\n",
    "    groups = df_set.groupby(groupby)\n",
    "    group_stats = pd.DataFrame(groups.number.count())\n",
    "    group_stats.rename(columns={'number':'count'}, inplace=True)\n",
    "    group_stats['pct_of_set'] = group_stats['count'].apply(lambda c: c / len(df_set))\n",
    "    print(set_label, 'statistics:')\n",
    "    print(group_stats)\n",
    "    for i, group in group_stats.iterrows():\n",
    "        if group['count'] <= show_examples_if_count_below:\n",
    "            values = ['%d' % v for v in groups.get_group(i).number.values]\n",
    "            print('Numbers in group', i, ':', values)\n",
    "\n",
    "\n",
    "def summarize_interesting_sets(df, interesting_sets):\n",
    "    for set_label in interesting_sets:\n",
    "        print(set_label)\n",
    "        df_set = df[df[set_label]]\n",
    "        print('Set size: %d (%0.2f%% of all numbers considered)' % (len(df_set), 100 * len(df_set) / len(df)))\n",
    "        show_interesting_set_statistics(df_set, set_label)\n",
    "        \n",
    "        df_set = df[~df[set_label]]\n",
    "        show_interesting_set_statistics(df_set, 'not '+set_label, 0)\n",
    "        print()\n",
    "\n",
    "summarize_interesting_sets(oeis, prior_work_set_names)"
   ]
  },
  {
   "cell_type": "markdown",
   "metadata": {},
   "source": [
    "From the results above, we see that these sets from prior work still do a good job of describing many of the popular numbers in OEIS.  In particular:\n",
    "- `primes` are a very good discriminator:\n",
    "    - 97.9% of primes are popular\n",
    "    - 91.3% of non-primes are not popular\n",
    "- `powers` are a good discriminator:\n",
    "    - 93.5% of powers are popular\n",
    "    - 81.3% of non-powers are not popular\n",
    "- `squares` are about as good as `powers` at discriminating:\n",
    "    - 94% of squares are popular\n",
    "    - 81.1% of non-squares are not popular\n",
    "- all `2^n-1` are popular numbers, and 80.5% of other numbers are not popular\n",
    "- all `2^n+1` but one are popular numbers (92.3%), and 80.5% of other numbers are not popular\n",
    "- all `highly_composites` are popular numbers, and 80.5% of non-highly-composite are not popular\n",
    "- having many prime factors turns out to not be a good discriminator in this dataset (but better than observed by Gauvrit et al. in the Sloane's Gap paper)\n",
    "    - 65.4% of numbers with relatively many prime factors are popular\n",
    "    - 82.1% of numbers with relatively few prime factors are not popular\n",
    "\n",
    "Combined, these sets include 1719 positive integers.  Of those integers, 1556 of them (90.5%) are popular.  With 1964 popular integers, 79.2% of them are accounted for by these sets, leaving 408 unaccounted for."
   ]
  },
  {
   "cell_type": "code",
   "execution_count": null,
   "metadata": {
    "collapsed": true
   },
   "outputs": [],
   "source": [
    "oeis_popular_accounted = oeis[oeis.is_popular & oeis.any_prior_work_set]\n",
    "oeis_popular_unaccounted = oeis[oeis.is_popular & ~oeis.any_prior_work_set]\n",
    "\n",
    "print('Unaccounted:', [n for n in oeis_popular_unaccounted.number])\n",
    "\n",
    "three_repeat_digit = [111, 222, 333, 444, 555, 666, 777, 888, 999]\n",
    "print('Three-repeat-digit numbers in unaccounted:')\n",
    "print(oeis_popular_unaccounted[oeis_popular_unaccounted.number.isin(three_repeat_digit)].number)\n",
    "\n",
    "print('Three-repeat-digit numbers in popular:')\n",
    "print(oeis_popular[oeis_popular.number.isin(three_repeat_digit)].number)"
   ]
  },
  {
   "cell_type": "markdown",
   "metadata": {},
   "source": [
    "Gauvrit et al. suggested that some of these are linked to decimal notation, offering the example that 1111, 2222, ..., 9999 are all in this unaccounted for set.  However, other than those nine numbers, none of them are obviously linked to decimal notation.  For example, of the three-digit version of that sequence, only 111 is in the unaccounted for sequence (it's also the only one in the popular set).\n",
    "\n",
    "The graph below shows where the unaccounted for popular numbers fall within the OEIS popularity graph.  It seems many of them occur for smaller numbers, before a clear gap begins to appear.  Point 2 (from the section on classifying popular numbers) is a good marker of where a gap just starts appearing -- recall that it's at x=185.  Of the 408 unaccounted for integers, 20.1% are below point 2.  Additionally, 52.9% of all popular integers below point 2 are unaccounted for.  Only 1.85% of all integers are below point 2.  Therefore, it seems being smaller is also an indicator for being popular."
   ]
  },
  {
   "cell_type": "code",
   "execution_count": null,
   "metadata": {
    "collapsed": true
   },
   "outputs": [],
   "source": [
    "plt.semilogy(oeis_popular_accounted.number, oeis_popular_accounted['pct'], c='pink', marker='.', linestyle='', label='Accounted For Popular')\n",
    "plt.semilogy(oeis_regular.number, oeis_regular['pct'], c='#a0a0ff', marker='.', linestyle='', label='Unpopular')\n",
    "plt.semilogy(oeis_popular_unaccounted.number, oeis_popular_unaccounted['pct'], c='red', marker='.', linestyle='', label='Unaccounted For Popular')\n",
    "plt.legend()\n",
    "plt.show()\n",
    "\n",
    "count_unaccounted_below_point2 = len([v for v in oeis_popular_unaccounted.number < point2.x if v])\n",
    "count_all_popular_below_point2 = len([v for v in oeis_popular.number < point2.x if v])\n",
    "print('Percent of unaccounted for below point 2: %0.2f%%' % (100 * count_unaccounted_below_point2 / len(oeis_popular_unaccounted)))\n",
    "print('Percent of popular (below point 2) that are unaccounted: %0.2f%%' % (100 * count_unaccounted_below_point2 / count_all_popular_below_point2))"
   ]
  },
  {
   "cell_type": "markdown",
   "metadata": {},
   "source": [
    "## Featured Figures and Future Figuring\n",
    "\n",
    "We covered a lot this time:\n",
    "- We got our first glimpse of the popularity of positive rationals across the three sources, then took a deep dive into the OEIS positive integers.\n",
    "- The popularity of OEIS positive integers generally follows: popularity = 12.226418 * n^-1.293657 (similar to the [Sloane's Gap paper](https://arxiv.org/abs/1101.4470))\n",
    "- We found that being prime, a power, one off of being a power of two, being a square number, or being highly composite are all good indicators of being popular.  Having relatively more prime factors than neighboring numbers can also be an indicator, but isn't as good.\n",
    "- 20.8% of popular integers don't fall into any of those categories though.  Many of them are just small, before a noticeable gap starts appearing.\n",
    "\n",
    "Overall, we were generally able to replicate the findings from prior work ([Guglielmetti](https://www.drgoulu.com/2009/04/18/nombres-mineralises/) and [Gauvrit et al.](https://arxiv.org/abs/1101.4470)).  Next time, we'll venture into new territory by exploring the Numberphile positive rationals!"
   ]
  },
  {
   "cell_type": "markdown",
   "metadata": {},
   "source": [
    "# Featured Numbers, Part 2: Numbers on Numberphile\n",
    "(or, as I've been thinking of it: The Point Where it Gets Interesting)\n",
    "\n",
    "This is the third part in a series examining the popularity of numbers featured in various math resources. Last time, we looked at the popularity of positive integers in OEIS, generally replicating previous work ([Guglielmetti](https://www.drgoulu.com/2009/04/18/nombres-mineralises/) and [Gauvrit et al.](https://arxiv.org/abs/1101.4470)).  This time, we're going to dive into the unexplored realm of the popularity of positive rationals in [Numberphile videos](https://www.youtube.com/user/numberphile/), a YouTube channel that's \"[Videos about numbers - it's that simple.](https://www.youtube.com/user/numberphile/about)\".\n",
    "\n",
    "Last time, we saw a graph of positive rational popularity across OEIS, Numberphile, and standupmaths.  The graph below is just the popularity of positive rationals in Numberphile."
   ]
  },
  {
   "cell_type": "code",
   "execution_count": null,
   "metadata": {
    "collapsed": true
   },
   "outputs": [],
   "source": [
    "source = 'Numberphile'\n",
    "numberphile = df_positive_rational[df_positive_rational['source'] == source].copy()\n",
    "\n",
    "transition_threshold = 250\n",
    "color = colors[source]\n",
    "plt.scatter(numberphile.number, numberphile['pct'], marker='.', color=color)\n",
    "plt.axvline(x=transition_threshold, linestyle='dotted', color=color, alpha=0.5)\n",
    "plt.show()"
   ]
  },
  {
   "cell_type": "markdown",
   "metadata": {},
   "source": [
    "## Classifying the Popularity\n",
    "\n",
    "Unlike with the OEIS data, there are very clearly three levels of popularity here: the popular (pct ≈ 0.115), the somewhat popular (pct ≈ 0.078), and the unpopular (pct ≈ 0.025).  This is in contrast to OEIS, with only two levels of popularity and a muddy gap between them.  However, like OEIS, numbers close to zero are relatively more popular than the line they seem to eventually settle into.  I eye-balled the transition point at around number=250 (the dashed line in the graph).\n",
    "\n",
    "So who's in each popularity level?  First, let's classify them.  For the flat part, a simple kmeans clustering will do.  For the curved part, I use two simple thresholds to classify the unpopular (pct <= 0.06) and the obviously popular (pct >= 0.15).  For the region between the popular and the somewhat popular, I eyeballed a line that seemed to separate the two (similar to what we did last time for OEIS), going from (12.048, 0.118321) down to (250, 0.0965) -- 0.0965 is the average between my initial guesses for the centers of the popular and somewhat popular lines."
   ]
  },
  {
   "cell_type": "code",
   "execution_count": null,
   "metadata": {
    "collapsed": true
   },
   "outputs": [],
   "source": [
    "from scipy.cluster.vq import kmeans2\n",
    "\n",
    "estimated_popularity_centers = [0.115, 0.078, 0.025]\n",
    "\n",
    "threshold_index = numberphile.number[numberphile.number == transition_threshold].index[0]\n",
    "flat_part = numberphile[threshold_index:]\n",
    "centroids, flat_groups = kmeans2(flat_part.pct, estimated_popularity_centers)\n",
    "print('Popularity centers for the flat parts:\\n', centroids)\n",
    "\n",
    "curve_part = numberphile[:threshold_index]\n",
    "\n",
    "def cluster_curved_Numberphile(row):\n",
    "    if row.pct <= 0.06:\n",
    "        return 2\n",
    "    elif row.pct >= 0.15:\n",
    "        return 0\n",
    "    else:\n",
    "        x1, y1 = 12.048, 0.118321\n",
    "        x2, y2 = 250, (estimated_popularity_centers[0] + estimated_popularity_centers[1])/2\n",
    "        m = (y1 - y2) / (x1 - x2)\n",
    "        b = y1 - m * x1\n",
    "        if row.pct > m * row.number + b:\n",
    "            return 0\n",
    "        else:\n",
    "            return 1\n",
    "\n",
    "curve_groups = curve_part.apply(cluster_curved_Numberphile, axis='columns')\n",
    "numberphile['popularity_group'] = np.concatenate([curve_groups, flat_groups])\n",
    "\n",
    "group_colors = [plt.cm.Set1.colors[g] for g in numberphile['popularity_group']]\n",
    "plt.scatter(numberphile.number, numberphile['pct'], marker='.', color=group_colors)\n",
    "plt.axvline(x=250, linestyle='dotted', color=color, alpha=0.5)\n",
    "plt.show()\n",
    "\n",
    "print('Size of each group:')\n",
    "for i in range(3):\n",
    "    print('Group', i)\n",
    "    popularity_group = numberphile[numberphile.popularity_group == i]\n",
    "    size = len(popularity_group)\n",
    "    print('\\tSize:', size)\n",
    "    print('\\tPercent: %0.2f%%' % (100 * size / len(numberphile)))\n",
    "    print('\\tAverage popularity: %0.2f%%' % (100 * popularity_group.mean().pct))"
   ]
  },
  {
   "cell_type": "markdown",
   "metadata": {},
   "source": [
    "Clusters look good.  Shockingly, 99% of all the positive rationals studied are unpopular (group 2).  What numbers could be so unpopular?\n",
    "\n",
    "## Characterizing the Unpopular Numbers\n",
    "\n",
    "I'll start with the unpopular numbers.  I strongly suspect that all the non-integers are in this category since 990000 is exactly how many positive non-integer rationals are included in the analysis."
   ]
  },
  {
   "cell_type": "code",
   "execution_count": null,
   "metadata": {
    "collapsed": true
   },
   "outputs": [],
   "source": [
    "numberphile_nonintegers = numberphile[numberphile.number % 1 != 0]\n",
    "print('Categories of non-integers:', numberphile_nonintegers.popularity_group.unique())\n",
    "print('Total number of non-integers:', len(numberphile_nonintegers))\n",
    "\n",
    "numberphile_unpopular = numberphile[numberphile.popularity_group == 2]\n",
    "print('Unpopular number statistics (by count):')\n",
    "print(numberphile_unpopular['count'].describe())\n",
    "print('Unpopular number statistics (by pct):')\n",
    "print(numberphile_unpopular['pct'].describe())"
   ]
  },
  {
   "cell_type": "markdown",
   "metadata": {},
   "source": [
    "Yep, the unpopular numbers are all the non-integers.  With an average popularity of 2.7306%, they are only a quarter as popular as the popular numbers and less than half as popular as the somewhat popular numbers.  On average, they're featured in only about 10 Numberphile videos so far.  Sorry non-integers, but at least you're still [interesting](https://en.wikipedia.org/wiki/Interesting_number_paradox).\n",
    "\n",
    "The distribution of popularity among the unpopular numbers is:"
   ]
  },
  {
   "cell_type": "code",
   "execution_count": null,
   "metadata": {
    "collapsed": true
   },
   "outputs": [],
   "source": [
    "numberphile_unpopular.groupby('pct').pct.count()"
   ]
  },
  {
   "cell_type": "markdown",
   "metadata": {},
   "source": [
    "Most of the non-integers are between 2.2284% and 2.7855%.  A small but sizeable percentage of numbers occur in only 1.95% of videos (7 videos) and a larger percentage occurring in 3.06% of videos (11 videos).  Interestingly, there are two positive non-integers even higher."
   ]
  },
  {
   "cell_type": "code",
   "execution_count": null,
   "metadata": {
    "collapsed": true
   },
   "outputs": [],
   "source": [
    "numberphile_unpopular[numberphile_unpopular.pct > 0.035]"
   ]
  },
  {
   "cell_type": "markdown",
   "metadata": {},
   "source": [
    "The powers of two!  Powers of two have been observed in the OEIS data to be popular ([\"La minéralisation des nombres\" by Guglielmetti](https://www.drgoulu.com/2009/04/18/nombres-mineralises/) and in the previous post of this series) and here we see that even the negative powers of two continue the trend of being popular.  Later in the series, we'll take a closer look at the trend of powers of two.\n",
    "\n",
    "I'm surprised we didn't see any approximations of popular constants (e.g. 3.14 for pi) pop out among the most popular non-integers.  Later in the series we'll focus on regions around popular constants.  For now, let's move on.\n",
    "\n",
    "## Characterizing the Popular Numbers\n",
    "\n",
    "Now that we know what the unpopular numbers are, let's figure out who some of the popular numbers are.  Last time, we drew from previous work by [Guglielmetti](https://www.drgoulu.com/2009/04/18/nombres-mineralises/) and [Gauvrit et al.](https://arxiv.org/abs/1101.4470) to create sets of likely-popular numbers:\n",
    "- `primes`: Prime numbers\n",
    "- `powers`: Numbers of the form a^b (for a,b ∈ **N**)\n",
    "- `squares`: Square numbers\n",
    "- `2^n-1`: Numbers one less than a power of 2\n",
    "- `2^n+1`: Numbers one more than a power of 2\n",
    "- A multitude of factors\n",
    "    - `highly_composites`: Guglielmetti defines this as having more divisors than any lower number (i.e. highly composite numbers, see [5040 and other Anti-Prime Numbers](https://www.youtube.com/watch?v=2JM2oImb9Qg))\n",
    "    - `many_prime_factors`: Gauvrit et al. defines this as when \"the number of prime factors (with their multiplicty) exceeds the 95th percentile, corresponding to the interval [n − 100, n + 100]\"\n",
    "\n",
    "In general, these turned out to be useful sets, so we'll try them again.  Luckily, we also created a function that'll do the tagging for us: `tag_with_sets_from_prior_work`!"
   ]
  },
  {
   "cell_type": "code",
   "execution_count": null,
   "metadata": {
    "collapsed": true
   },
   "outputs": [],
   "source": [
    "numberphile_ints = numberphile[numberphile.number % 1 == 0].copy()\n",
    "prior_work_set_names = tag_with_sets_from_prior_work(numberphile_ints)\n",
    "summarize_interesting_sets(numberphile_ints, prior_work_set_names)"
   ]
  }
 ],
 "metadata": {
  "kernelspec": {
   "display_name": "Python 3",
   "language": "python",
   "name": "python3"
  },
  "language_info": {
   "codemirror_mode": {
    "name": "ipython",
    "version": 3
   },
   "file_extension": ".py",
   "mimetype": "text/x-python",
   "name": "python",
   "nbconvert_exporter": "python",
   "pygments_lexer": "ipython3",
   "version": "3.6.0"
  }
 },
 "nbformat": 4,
 "nbformat_minor": 2
}
