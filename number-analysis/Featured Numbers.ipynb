{
 "cells": [
  {
   "cell_type": "markdown",
   "metadata": {},
   "source": [
    "# Featured Numbers, Part 0: Introduction\n",
    "\n",
    "While [all numbers are interesting](https://en.wikipedia.org/wiki/Interesting_number_paradox), prior research has found that some numbers are more popular than others ([Guglielmetti, 2009](https://www.drgoulu.com/2009/04/18/nombres-mineralises/); [Gauvrit, Delahaye, Zenil, 2011](https://arxiv.org/abs/1101.4470)).  This prior research was on the [Online Encyclopedia of Integer Sequences (OEIS)](http://oeis.org/), which is exactly what it claims to be.  In this series, we'll look at the popularity of numbers on two popular math YouTube channels, as well as in OEIS.\n",
    "\n",
    "[Numberphile](https://www.youtube.com/user/numberphile/) is a YouTube channel that's \"[Videos about numbers - it's that simple.](https://www.youtube.com/user/numberphile/about)\".  It's perhaps the most popular Youtube channel devoted to math, with over two million subscribers and 300 million views as of December 14, 2017.  One frequent contributor to Numberphile is Matt Parker, who has his own YouTube channel, [standupmaths](https://www.youtube.com/user/standupmaths/), where he does \"[mathematics and stand-up. Sometimes simultaneously. Occasionally while being filmed. (It's quite the Venn diagram.)](https://www.youtube.com/user/standupmaths/about)\"  I strongly recommend subscribing to both channels if you aren't already.\n",
    "\n",
    "## History\n",
    "\n",
    "This project actually began as [a disco calculator for a friend's daughter](https://github.com/lipschultz/diabicus), inspired by [Sam's Disco Calculator](https://www.youtube.com/watch?v=YfIQ7ktFM1g).  For each calculation, the calculator would show a fact related to the calculation or result.  I collected these facts from Numberphile and standupmaths videos.  Eventually, I realized that I have a bunch of data, it'd be ashame if I didn't explore the data (I may also have been inspired by [Sloane's Gap](https://www.youtube.com/watch?v=_YysNM2JoFo).)\n",
    "\n",
    "## About the Data\n",
    "\n",
    "Only videos on Numberphile and standupmaths are included in the data.  Hidden videos on those channels that are linked to from a visible video on those channels are included.  Other hidden videos, and private videos, are not included.  [Numberphile2](https://www.youtube.com/channel/UCyp1gCHZJU_fGWFf2rtMkCg) and [Matt Parker](https://www.youtube.com/channel/UCzV9N7eGedBchEQjQhPapyQ) are not included.  The analysis includes videos up to December 12, 2017, giving a total of 359 Numberphile videos and 98 standupmaths videos.  There are many other math channels on YouTube, but the data collection and analysis are left as exercises to the reader.\n",
    "\n",
    "The data used in this analysis can be found: [https://github.com/lipschultz/diabicus/blob/d1b1bb2020c6b6ad8e446dbc7d719efc6155a3c5/resources/youtube.json](https://github.com/lipschultz/diabicus/blob/d1b1bb2020c6b6ad8e446dbc7d719efc6155a3c5/resources/youtube.json)\n",
    "\n",
    "### Annotations\n",
    "\n",
    "For each video, the following information was recorded:\n",
    "- URL - YouTube link to video\n",
    "- Title - title of YouTube video\n",
    "- Hosts - people talking about the math/number(s) in the video, but not necessarily everyone involved in making or appearing in the video (e.g. the hosts for [MENACE: the pile of matchboxes which can learn](https://www.youtube.com/watch?v=R9c-_neaxeU) are just Matt Parker, Matthew Scroggs, and Katie Steckles)\n",
    "- Date published\n",
    "- Source (\"Numberphile\", \"standupmaths\")\n",
    "- links to any relevant [Online Encyclopedia of Integer Sequences (OEIS)](http://oeis.org/) or [Wikipedia](https://en.wikipedia.org/) page\n",
    "- Test - used to determine what numbers or calculations occur in the video\n",
    "\n",
    "`Test` is what we'll use to determine whether a number is \"featured\" in a video.  The test is a python function that takes a formula, its result, and the context (i.e. calculation history), and returns True if the formula, result, or context are relevant to the video.  I chose to use a function instead of recording the set of numbers (as is done in OEIS) since some sets would be very large (e.g. set of all integers).\n",
    "\n",
    "This analysis suffers from having only one annotator: me.  I have probably been inconsistent in my annotations over the months I spent watching and annotating videos, and the threshold for a number to \"feature\" in a video is very vague.  In my defense, the data was originally intended to supplement a child's disco calculator, so I didn't approach this with the rigor I maybe should have.  Therefore, I welcome annotations from others to establish inter-rater reliability and improve the overall tags.\n",
    "\n",
    "Some guidelines I used for determining whether a number was \"featured\" in the video:\n",
    "\n",
    "- If the video is about random numbers or randomness (e.g. [An unexpected way to inflate a balloon](https://www.youtube.com/watch?v=un-pTKfC1dQ)), then the video will match a random number in the range [0, 1).\n",
    "- When a constant is calculated and the error is mentioned (e.g. [computing pi using pies](https://www.youtube.com/watch?v=ZNiRzZ66YN0)), any number within that error range of the constant is considered \"featured\" in the video.\n",
    "- Numbers that show up in illustrative examples do not qualify as being featured in the video\n",
    "    - e.g. [a video about parabolas](https://www.youtube.com/watch?v=zXoJlRFbktw) will use some numbers as coefficients and x or y values, but those numbers aren't \"featured\" in the video\n",
    "    - e.g. the [triplets in Apéry's constant](https://www.youtube.com/watch?v=ur-iLy4z3QE)\n",
    "- Some videos just aren't obviously about numbers (Todashi's Toys are a good example), so these videos don't match any numbers.\n",
    "- If a set is talked about (e.g. prime numbers or Fibonnacci sequence) but only some numbers from the sequence are included, \"all\" numbers in the set are considered featured in the video (well, all numbers up to the max I'm considering in this analysis or up to what's included in OEIS or Wikipedia).\n",
    "    - If a video is about numbers in general (e.g. [Philosophy of Numbers](https://www.youtube.com/watch?v=vA2cdHLKYB8)), then it features all numbers.\n",
    "    - If a video is about a kind of number (e.g. [Surreal Numbers (writing the first book)](https://www.youtube.com/watch?v=mPn2AdMH7UQ)), then all numbers of that kind are featured.\n",
    "\n",
    "### Counting Featured Numbers\n",
    "\n",
    "For the analysis in this project, we're only interested in whether a number is \"featured\" in the video, so we feed that number in as the `result` to the test function; the `formula` that generated that result will also be the number; no additional calculation history is provided.  If the test function returns True, then the number is featured in the video.\n",
    "\n",
    "While studying the popularity of all numbers would be interesting, time and space constraints limit the set of numbers to consider.   Drawing from previous work on the popularity of integers in OEIS (see [Sloane's Gap](https://www.youtube.com/watch?v=_YysNM2JoFo)), bounds were set at [-10000, +10001) for both real and imaginary numbers.  Along the real axis (a + 0i) and the imaginary axis (0 + bi), we take 0.01-step increments.  For all other complex numbers (a + bi, for a, b != 0), we take unit steps for both a and b.\n",
    "\n",
    "The code for determining whether a number is featured in a video can be found here: [https://github.com/lipschultz/diabicus/blob/gap-analysis/number-analysis/compute_popularity.py](https://github.com/lipschultz/diabicus/blob/gap-analysis/number-analysis/compute_popularity.py)\n",
    "\n",
    "## A Brief Word About OEIS\n",
    "\n",
    "Since some of the analysis will include the [Online Encyclopedia of Integer Sequences (OEIS)](http://oeis.org/), a brief introduction is in order.  The OEIS is exactly what it claims to be: an encyclopedia of integer sequences.  No non-integer values occur in the sequences (although sequences can be about non-integer numbers, e.g. [A000796](http://oeis.org/A000796)), nor are there sequences containing imaginary numbers (although sequences can be about imaginary numbers, e.g. [A002410](http://oeis.org/A002410)).\n",
    "\n",
    "The data used in this analysis was downloaded on December 15, 2017 and consists of 296 522 sequences ([download link](http://oeis.org/stripped.gz)).  Unlike the data on the videos, OEIS records a list of numbers in the sequence and [generally caps it at about 180 to 210 characters in a sequence (including commas)](http://oeis.org/FAQ.html#Z07b).  While generating functions in various programming languages are sometimes available, they are not used in this analysis.  Unfortunately, this has the effect of numbers occurring in a sequence, but not being included in OEIS's rendering of the sequence and therefore not being included in this analysis.\n",
    "\n",
    "Previous work on the popularity of numbers in OEIS counted the total number of occurrences of a number in OEIS.  If a number occurred more than once in a sequence, it was counted each time.  However, in this series of posts, to be consistent with how I counted numbers in the YouTube videos, I instead count the sequences a number occurs in.  For example, in sequence [A000796](http://oeis.org/A000796) (the digits of Pi), the number `1` occurs nine times.  In the Sloane's Gap paper, `1`'s count would increase by nine, while in this analysis it increases by one.\n",
    "\n",
    "Code for adding the OEIS data to the database of feature numbers can be found here: [https://github.com/lipschultz/diabicus/blob/gap-analysis/number-analysis/compute_oeis_popularity.py](https://github.com/lipschultz/diabicus/blob/gap-analysis/number-analysis/compute_oeis_popularity.py)\n",
    "\n",
    "## Featured Figures and Future Figuring\n",
    "\n",
    "Important numbers for today's post:\n",
    "\n",
    "- 359 Numberphile videos annotated\n",
    "- 98 standupmaths videos annotated\n",
    "- 1 annotator for videos\n",
    "- 296 522 OEIS sequences included\n",
    "\n",
    "With the introduction and overview out of the way, next time we'll take a look at the data and attempt to replicate the prior findings on OEIS."
   ]
  },
  {
   "cell_type": "markdown",
   "metadata": {},
   "source": [
    "# Featured Numbers, Part 1: Popularity of Positive Rationals in OEIS\n",
    "\n",
    "This is the second part in a series examining the popularity of numbers featured in various math resources.  In the first part, we reviewed the data to be used in this analysis.  In this part, we'll finally start doing some analysis!  We'll start with a quick overview of the popularity of numbers across the three sources.  Then we'll dive into the OEIS data by trying to replicate the results in the [Sloane's Gap paper](https://arxiv.org/abs/1101.4470) ([Numberphile video on the topic](https://www.youtube.com/watch?v=_YysNM2JoFo)).\n",
    "\n",
    "## Loading Data\n",
    "\n",
    "At this point, we assume that the raw json data from the YouTube channels and the csv data from OEIS have been loaded into a sqlite database (using the scripts from [https://github.com/lipschultz/diabicus/blob/gap-analysis/number-analysis/](https://github.com/lipschultz/diabicus/blob/gap-analysis/number-analysis/)).  Let's load all the positive rational data, since in future posts we'll be comparing all of them (and I'm eager to see how Numberphile and standupmaths compare to OEIS)."
   ]
  },
  {
   "cell_type": "code",
   "execution_count": null,
   "metadata": {
    "collapsed": true
   },
   "outputs": [],
   "source": [
    "import sqlite3\n",
    "import pandas as pd\n",
    "\n",
    "conn = sqlite3.connect('data/data.db')\n",
    "df_positive_rational = pd.read_sql_query('''SELECT V.source, C.real_part AS number, COUNT(*) AS count\n",
    "                                            FROM counts C, videos V\n",
    "                                            WHERE C.imag_part == 0 AND\n",
    "                                                  C.video_id = V.video_id AND\n",
    "                                                  0 <= C.real_part AND\n",
    "                                                  C.real_part <= 10000\n",
    "                                            GROUP BY V.source, C.real_part''',\n",
    "                                         conn)\n",
    "df_pr = df_positive_rational"
   ]
  },
  {
   "cell_type": "markdown",
   "metadata": {},
   "source": [
    "Because each source has a different number of videos/sequences (from 98 with standupmaths to 296522 with OEIS), we need to normalize by the number of videos/sequences. In the code below, a new column is added (named pct) to store the percent of videos/sequences that each number occurs in."
   ]
  },
  {
   "cell_type": "code",
   "execution_count": null,
   "metadata": {
    "collapsed": true
   },
   "outputs": [],
   "source": [
    "df_source = pd.read_sql_query('''SELECT source, COUNT(*) as total\n",
    "                                 FROM videos\n",
    "                                 GROUP BY source''',\n",
    "                              conn, index_col='source')\n",
    "source_totals = df_source['total'].to_dict()\n",
    "df_pr['pct'] = df_pr.apply(lambda row: row['count']/source_totals[row['source']], axis=1)"
   ]
  },
  {
   "cell_type": "markdown",
   "metadata": {},
   "source": [
    "## Qualitative Comparison of Sources\n",
    "\n",
    "With the data loaded, let's take a look at the popularity!"
   ]
  },
  {
   "cell_type": "code",
   "execution_count": null,
   "metadata": {
    "collapsed": true
   },
   "outputs": [],
   "source": [
    "import matplotlib.pyplot as plt\n",
    "\n",
    "colors = {'Numberphile': '#603913', 'standupmaths': '#e79300', 'OEIS': '#ff0000'}\n",
    "\n",
    "for source, color in colors.items():\n",
    "    d = df_pr[df_pr['source'] == source]\n",
    "    plt.semilogy(d.number, d['pct'], marker='.', linestyle='', color=color, label=source)\n",
    "\n",
    "plt.legend()\n",
    "plt.show()"
   ]
  },
  {
   "cell_type": "markdown",
   "metadata": {},
   "source": [
    "The graph above shows OEIS popularity in red, standupmaths in yellow, and Numberphile in brown.  The y-axis is logscale.  A few interesting things pop out in this graph.\n",
    "\n",
    "First, notice that the Numberphile and standupmaths plots are mostly straight lines.  Close to zero, there appears to be a downward trend, like with the OEIS data, but it quickly levels off.  This is in stark contrast with OEIS, which has a general downward trend throughout the graph.  OEIS not leveling off may be due to their length threshold on each sequence -- bigger numbers may be dropped due to space restrictions.  However, there may be fundamental differences between OEIS and the two YouTube channels.  The people who decide what numbers/sequences to include are different (OEIS has a panel of mathematicians, Numberphile has Dr. Haran and mathematicians, standupmaths has Matt Parker and his guests), possibly leading to different focuses.\n",
    "\n",
    "Both Numberphile and standupmaths have very clearly-defined gaps compared to OEIS.  This might be due to just having less videos than OEIS has sequences.  By having a lot of sequences, there's also a finer granularity between 0% and 100%, allowing for a muddier gap.  Having more sequences also allows for less popular sequences (e.g. [OEIS keywords](http://oeis.org/eishelp2.html#RK) \"dumb\", \"less\", or \"obsc\"), which Numberphile and standupmaths haven't gotten to (yet?).  Or, it could be due to OEIS capping off its sequences, which could lead to some popular numbers not showing up as often as they should.  If that's the case, one would expect to see a cleaner gap in the OEIS data for smaller integers, but it's not clear there is in the graph above.\n",
    "\n",
    "Finally, almost all OEIS data points are below the other two sources.  This is likely because there are just more sequences in OEIS than videos in Numberphile and standupmaths, and each number just shows up in a small percentage of those sequences.\n",
    "\n",
    "Now let's dive into the details of the specific curves, starting with OEIS!\n",
    "\n",
    "## Positive Integers in OEIS\n",
    "\n",
    "In the graph above, notice that the OEIS data is similar to Figure 1 from the [Sloane's Gap paper](https://arxiv.org/abs/1101.4470), which we'd expect since the data is largely identical.  While there is still a noticeable gap between two \"clouds\" (as Gauvrit et al. call the two fairly separate regions), it is less pronounced than in the Sloane's Gap paper.  I suspect the difference is in how we counted occurrences: the Sloane's Gap paper counts all occurrences of a number, while this analysis counts the sequences a number appears in.\n",
    "\n",
    "### Curve\n",
    "\n",
    "The popularity of positive integers in OEIS is generally decreasing as the number increases, appearing to be a logarithmic curve as was used in the Sloane's Gap paper.  Fitting a logarithmic curve to the data shows that it is:"
   ]
  },
  {
   "cell_type": "code",
   "execution_count": null,
   "metadata": {
    "collapsed": true
   },
   "outputs": [],
   "source": [
    "from scipy import stats\n",
    "\n",
    "oeis_regression = stats.linregress(np.log(oeis.number[1:]), np.log(oeis['pct'][1:]))\n",
    "print('OEIS regression:', oeis_regression)\n",
    "print('popularity = %f * n^%f' % (np.exp(oeis_regression.intercept), oeis_regression.slope))\n",
    "oeis_best_fit = lambda n: np.exp(oeis_regression.intercept) * n**oeis_regression.slope"
   ]
  },
  {
   "cell_type": "markdown",
   "metadata": {},
   "source": [
    "The curve is a very good fit at p ≈ 0.0 and r^2 = 0.84 (compared to r^2 = 0.81 in the Sloane's Gap paper).  The slope/exponent is also very similar to the one found in Sloane's Gap paper (exponent = -1.33).\n",
    "\n",
    "### Classifying the Popular Numbers\n",
    "\n",
    "As with the Sloane's Gap paper, determining which numbers are popular will be done empirically.  Two curves will determine popularity for the regions [0, 185) and [185, 500).  For 500 and above, I use the same method as Gauvrit et al.: numbers with a popularity above the 82 percentile within the range [n-c, n+c] are labeled popular; for n <= 1000, c = 100, for n > 1000, c = 350."
   ]
  },
  {
   "cell_type": "code",
   "execution_count": null,
   "metadata": {
    "collapsed": true
   },
   "outputs": [],
   "source": [
    "from collections import namedtuple\n",
    "\n",
    "Point = namedtuple('Point', ['x', 'y'])\n",
    "\n",
    "def line_from_points(point1, point2):\n",
    "    m = (point1.y - point2.y) / (point1.x - point2.x)\n",
    "    b = point1.y - m*point1.x\n",
    "    return m, b\n",
    "\n",
    "point1 = Point(100, 0.0219296)\n",
    "point2 = Point(185, 0.0178644)\n",
    "m1, b1 = line_from_points(point1, point2)\n",
    "threshold_curve1 = lambda x: m1 * x + b1\n",
    "\n",
    "point2 = Point(*[np.log(p) for p in point2])\n",
    "point3 = Point(np.log(499), np.log(0.00609301))\n",
    "m2, b2 = line_from_points(point2, point3)\n",
    "threshold_curve2 = lambda x: np.exp(b2 + m2 * np.log(x))\n",
    "\n",
    "is_popular = []\n",
    "for i in range(len(oeis)):\n",
    "    number = oeis.iloc[i]['number']\n",
    "    pct = oeis.iloc[i]['pct']\n",
    "    if number < 185:\n",
    "        is_popular.append(pct > threshold_curve1(number))\n",
    "    elif number < 500:\n",
    "        is_popular.append(pct > threshold_curve2(number))\n",
    "    else:\n",
    "        window_size = 100 if number <= 1000 else 350\n",
    "        lower_bound = max(0, i-window_size)\n",
    "        upper_bound = min(i+window_size, len(oeis)-1)\n",
    "        interval = oeis.iloc[lower_bound:upper_bound+1]\n",
    "        threshold_pct = interval['pct'].quantile(0.82)\n",
    "        is_popular.append(pct > threshold_pct)\n",
    "\n",
    "oeis['is_popular'] = is_popular"
   ]
  },
  {
   "cell_type": "markdown",
   "metadata": {},
   "source": [
    "The figure below shows the classified numbers, the two curves, as well as the fit for all the data from the previous section."
   ]
  },
  {
   "cell_type": "code",
   "execution_count": null,
   "metadata": {
    "collapsed": true
   },
   "outputs": [],
   "source": [
    "oeis_popular = oeis[oeis.is_popular]\n",
    "oeis_regular = oeis[~oeis.is_popular]\n",
    "\n",
    "plt.semilogy(oeis_popular.number, oeis_popular['pct'], c='red', marker='.', linestyle='', label='Popular')\n",
    "plt.semilogy(oeis_regular.number, oeis_regular['pct'], c='blue', marker='.', linestyle='', label='Unpopular')\n",
    "x_1 = [x for x in range(0, 185)]\n",
    "plt.semilogy(x_1, [threshold_curve1(x) for x in x_1], c='orange', marker='', linestyle='-', label='Threshold 1')\n",
    "x_2 = [x for x in range(185, 500)]\n",
    "plt.semilogy(x_2, [threshold_curve2(x) for x in x_2], c='green', marker='', linestyle='-', label='Threshold 2')\n",
    "plt.semilogy(oeis.number[1:], oeis.number[1:].apply(oeis_best_fit), c='purple', marker='', linestyle='-', label='Best fit')\n",
    "plt.show()"
   ]
  },
  {
   "cell_type": "markdown",
   "metadata": {},
   "source": [
    "### Characterizing the Popular Numbers\n",
    "\n",
    "Now that we've classified the numbers, let's find out who's in the popular class.\n",
    "\n",
    "Prior work by [Guglielmetti](https://www.drgoulu.com/2009/04/18/nombres-mineralises/) and [Gauvrit et al.](https://arxiv.org/abs/1101.4470) found that the popular positive integers to tend belong to one or more of these sets:\n",
    "- `primes`: Prime numbers\n",
    "- `powers`: Numbers of the form a^b (for a,b ∈ **N**)\n",
    "- `squares`: Square numbers\n",
    "- A multitude of factors\n",
    "    - `highly_composite`: Guglielmetti defines this as having more divisors than any lower number (i.e. highly composite numbers, see [5040 and other Anti-Prime Numbers](https://www.youtube.com/watch?v=2JM2oImb9Qg))\n",
    "    - `many_prime_factors`: Gauvrit et al. defines this as when \"the number of prime factors (with their multiplicty) exceeds the 95th percentile, corresponding to the interval [n − 100, n + 100]\"\n",
    "\n",
    "The code below tags each number for whether it belongs to one of those five sets."
   ]
  },
  {
   "cell_type": "code",
   "execution_count": null,
   "metadata": {
    "collapsed": true
   },
   "outputs": [],
   "source": [
    "import sys\n",
    "sys.path.append('../src')\n",
    "import numeric_tools\n",
    "\n",
    "\n",
    "def get_powers_of(base, starting_exponent=2, no_values_above=10000):\n",
    "    values = []\n",
    "    exponent = starting_exponent\n",
    "    value = base ** exponent\n",
    "    while value <= no_values_above:\n",
    "        values.append(value)\n",
    "        exponent += 1\n",
    "        value = base ** exponent\n",
    "    return values\n",
    "\n",
    "\n",
    "def tag_with_sets_from_prior_work(df):\n",
    "    MAX_NUMBER = df.number.max()\n",
    "    \n",
    "    df['is_prime'] = df.number.apply(numeric_tools.is_prime)\n",
    "    \n",
    "    powers = set()\n",
    "    squares = [1] # To be consistent with Guglielmetti, who includes 1\n",
    "    base = 2\n",
    "    base_powers = get_powers_of(base, no_values_above=MAX_NUMBER)\n",
    "    while len(base_powers) > 0:\n",
    "        powers.update(base_powers)\n",
    "        squares.append(base_powers[0])\n",
    "        base += 1\n",
    "        base_powers = get_powers_of(base, no_values_above=MAX_NUMBER)\n",
    "    df['is_power'] = df.number.apply(lambda n: n in powers)\n",
    "    df['is_square'] = df.number.apply(lambda n: n in squares)\n",
    "    \n",
    "    more_divisors_than_predecessors = [1] # To be consistent with Guglielmetti, who includes 1\n",
    "    max_divisor_count = 1\n",
    "    n = 2\n",
    "    while n <= MAX_NUMBER:\n",
    "        divisor_count = len(numeric_tools.factors(n, numeric_tools.FACTORS_ALL))\n",
    "        if divisor_count > max_divisor_count:\n",
    "            more_divisors_than_predecessors.append(n)\n",
    "            max_divisor_count = divisor_count\n",
    "        n += 1\n",
    "    df['is_highly_composite'] = df.number.apply(lambda n: n in more_divisors_than_predecessors)\n",
    "    \n",
    "    df['prime_factor_count'] = df.number.apply(lambda n: len(numeric_tools.factors(n, numeric_tools.FACTORS_PRIME)))\n",
    "    has_many_prime_factors = []\n",
    "    for i in range(len(df)):\n",
    "        lower_bound = max(0, i-100)\n",
    "        upper_bound = min(i+100, len(df)-1)\n",
    "        interval = df.iloc[lower_bound:upper_bound+1]\n",
    "        threshold_95pct = interval.prime_factor_count.quantile(0.95)\n",
    "        has_many_prime_factors.append(df.iloc[i].prime_factor_count > threshold_95pct)\n",
    "    df['has_many_prime_factors'] = has_many_prime_factors\n",
    "\n",
    "\n",
    "tag_with_sets_from_prior_work(oeis)\n",
    "oeis['popularity_group'] = oeis.is_popular.apply(lambda p: 0 if p else 1)"
   ]
  },
  {
   "cell_type": "markdown",
   "metadata": {},
   "source": [
    "Now let's look at the results!"
   ]
  },
  {
   "cell_type": "code",
   "execution_count": null,
   "metadata": {
    "collapsed": true
   },
   "outputs": [],
   "source": [
    "interesting_sets = ['is_prime', 'is_power', 'is_square', 'is_highly_composite', 'has_many_prime_factors']\n",
    "for set_label in interesting_sets:\n",
    "    df_set = df[df[set_label]]\n",
    "    groups = df_set.groupby('popularity_group')\n",
    "    group_stats = pd.DataFrame(groups.number.count()).rename(columns={'number':'count'})\n",
    "    group_stats['pct_of_set'] = group_stats['count'].apply(lambda c: c / len(df_set))\n",
    "    print(set_label)\n",
    "    print('Set size: %d (%0.2f%%)' % (len(df_set), 100 * len(df_set) / len(df)))\n",
    "    print('Set statistics:')\n",
    "    print(group_stats)\n",
    "    if group_counts[0] <= 30:\n",
    "        print('Popular numbers:', groups.get_group(0).number.values)\n",
    "    if 1 in group_counts and group_counts[1] <= 30:\n",
    "        print('Unpopular numbers:', groups.get_group(1).number.values)\n",
    "    print()\n",
    "\n",
    "df_set = df[df.is_prime | df.is_power | df.is_highly_composite | df.has_many_prime_factors]\n",
    "group_counts = df_set.groupby('popularity_group').number.count()\n",
    "print('Any Set')\n",
    "print('Total: %d (%0.2f%%)' % (len(df_set), 100 * len(df_set) / len(df)))\n",
    "print('Group distribution:')\n",
    "print(group_counts)"
   ]
  }
 ],
 "metadata": {
  "kernelspec": {
   "display_name": "Python 3",
   "language": "python",
   "name": "python3"
  },
  "language_info": {
   "codemirror_mode": {
    "name": "ipython",
    "version": 3
   },
   "file_extension": ".py",
   "mimetype": "text/x-python",
   "name": "python",
   "nbconvert_exporter": "python",
   "pygments_lexer": "ipython3",
   "version": "3.6.0"
  }
 },
 "nbformat": 4,
 "nbformat_minor": 2
}
